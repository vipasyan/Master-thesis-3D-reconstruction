{
  "nbformat": 4,
  "nbformat_minor": 0,
  "metadata": {
    "colab": {
      "provenance": []
    },
    "kernelspec": {
      "name": "python3",
      "display_name": "Python 3"
    },
    "language_info": {
      "name": "python"
    }
  },
  "cells": [
    {
      "cell_type": "code",
      "execution_count": null,
      "metadata": {
        "id": "fnvwT6KBK6BV"
      },
      "outputs": [],
      "source": [
        "import numpy as np\n",
        "import os\n",
        "import imageio\n",
        "import matplotlib.image as img\n",
        "from skimage.transform import resize\n",
        "from skimage.metrics import peak_signal_noise_ratio\n",
        "import matplotlib.pyplot as plt\n",
        "%matplotlib inline\n",
        "from PIL import Image\n",
        "from skimage import data\n",
        "from skimage.metrics import structural_similarity\n",
        "from google.colab.patches import cv2_imshow\n",
        "import cv2\n",
        "import numpy as np\n",
        "from skimage import io"
      ]
    },
    {
      "cell_type": "code",
      "source": [
        "'''Structural Similarity Index (SSIM)'''\n",
        "\n",
        "# Load images\n",
        "before = io.imread('lego_original.jpg')\n",
        "after = io.imread('lego_mesh.jpg')\n",
        "\n",
        "# Convert images to grayscale\n",
        "before_gray = cv2.cvtColor(before, cv2.COLOR_BGR2GRAY)\n",
        "after_gray = cv2.cvtColor(after, cv2.COLOR_BGR2GRAY)\n",
        "\n",
        "# Compute SSIM between the two images\n",
        "(score, diff) = structural_similarity(before_gray, after_gray, full=True)\n",
        "print(\"Structural Similarity: {:.4f}%\".format(score * 100))\n",
        "\n",
        "'''The diff image contains the actual image differences between the two images\n",
        " and is represented as a floating point data type in the range [0,1]\n",
        " so we must convert the array to 8-bit unsigned integers in the range\n",
        " [0,255] before we can use it with OpenCV'''\n",
        "\n",
        "diff = (diff * 255).astype(\"uint8\")\n",
        "diff_box = cv2.merge([diff, diff, diff])\n",
        "\n",
        "# Threshold the difference image, followed by finding contours to\n",
        "# obtain the regions of the two input images that differ\n",
        "thresh = cv2.threshold(diff, 0, 255, cv2.THRESH_BINARY_INV | cv2.THRESH_OTSU)[1]\n",
        "contours = cv2.findContours(thresh, cv2.RETR_EXTERNAL, cv2.CHAIN_APPROX_SIMPLE)\n",
        "contours = contours[0] if len(contours) == 2 else contours[1]\n",
        "\n",
        "mask = np.zeros(before.shape, dtype='uint8')\n",
        "filled_after = after.copy()\n",
        "\n",
        "for c in contours:\n",
        "    area = cv2.contourArea(c)\n",
        "    if area > 40:\n",
        "        x,y,w,h = cv2.boundingRect(c)\n",
        "        cv2.rectangle(before, (x, y), (x + w, y + h), (36,255,12), 2)\n",
        "        cv2.rectangle(after, (x, y), (x + w, y + h), (36,255,12), 2)\n",
        "        cv2.rectangle(diff_box, (x, y), (x + w, y + h), (36,255,12), 2)\n",
        "        cv2.drawContours(mask, [c], 0, (255,255,255), -1)\n",
        "        cv2.drawContours(filled_after, [c], 0, (0,255,0), -1)\n",
        "\n",
        "cv2_imshow( before)\n",
        "cv2_imshow( after)\n",
        "cv2_imshow( diff)\n",
        "cv2_imshow( diff_box)\n",
        "cv2_imshow( mask)\n",
        "cv2_imshow( filled_after)\n",
        "cv2.waitKey()"
      ],
      "metadata": {
        "id": "w5W1BdR1LFvg"
      },
      "execution_count": null,
      "outputs": []
    },
    {
      "cell_type": "code",
      "source": [
        "'''Mean Squared Error (MSE)'''\n",
        "\n",
        "# load the input images\n",
        "img1 = io.imread('lego_original.png')\n",
        "img2 = io.imread('lego_surfels.png')\n",
        "\n",
        "# convert the images to grayscale\n",
        "img1 = cv2.cvtColor(img1, cv2.COLOR_BGR2GRAY)\n",
        "img2 = cv2.cvtColor(img2, cv2.COLOR_BGR2GRAY)\n",
        "\n",
        "# define the function to compute MSE between two images\n",
        "def mse(img1, img2):\n",
        "   h, w = img1.shape\n",
        "   diff = cv2.subtract(img1, img2)\n",
        "   err = np.sum(diff**2)\n",
        "   mse = err/(float(h*w))\n",
        "   return mse, diff\n",
        "\n",
        "error, diff = mse(img1, img2)\n",
        "print(\"Image matching Error - MSE - between the two images:\",error)\n",
        "\n",
        "cv2_imshow(diff)\n",
        "cv2.waitKey(0)\n",
        "cv2.destroyAllWindows()"
      ],
      "metadata": {
        "id": "0YV8mkfsLJbu"
      },
      "execution_count": null,
      "outputs": []
    },
    {
      "cell_type": "code",
      "source": [
        "'''Peak Signal to Noise Ratio (PSNR)'''\n",
        "\n",
        "# define the function to compute PSNR between two images\n",
        "def calculate_psnr(image1, image2):\n",
        "\n",
        "    # Ensure that the images have the same shape and data type\n",
        "    assert image1.shape == image2.shape, \"Images must have the same shape\"\n",
        "    assert image1.dtype == image2.dtype, \"Images must have the same data type\"\n",
        "\n",
        "    # Calculate PSNR using scikit-image's peak_signal_noise_ratio function\n",
        "    psnr = peak_signal_noise_ratio(image1, image2)\n",
        "\n",
        "    return psnr\n",
        "\n",
        "# Example usage:\n",
        "# Load the images (replace 'image1_path' and 'image2_path' with the actual file paths)\n",
        "image1 = cv2.imread('lego_original.png')\n",
        "image2 = cv2.imread('lego_surfels.png')\n",
        "\n",
        "# Calculate PSNR between the images\n",
        "psnr_value = calculate_psnr(image1, image2)\n",
        "print(f\"PSNR value: {psnr_value:.2f} dB\")"
      ],
      "metadata": {
        "id": "WwqHkqkgLNod"
      },
      "execution_count": null,
      "outputs": []
    }
  ]
}