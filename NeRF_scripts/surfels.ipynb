{
 "cells": [
  {
   "cell_type": "markdown",
   "id": "514e4a2b",
   "metadata": {},
   "source": [
    "## Import libraries"
   ]
  },
  {
   "cell_type": "code",
   "execution_count": 1,
   "id": "0035c94d",
   "metadata": {},
   "outputs": [
    {
     "name": "stdout",
     "output_type": "stream",
     "text": [
      "Jupyter environment detected. Enabling Open3D WebVisualizer.\n",
      "[Open3D INFO] WebRTC GUI backend enabled.\n",
      "[Open3D INFO] WebRTCWindowSystem: HTTP handshake server disabled.\n"
     ]
    }
   ],
   "source": [
    "import os, sys\n",
    "#os.environ['TF_FORCE_GPU_ALLOW_GROWTH'] = 'true'\n",
    "#os.environ['CUDA_VISIBLE_DEVICES'] = '0'\n",
    "os.environ['CUDA_VISIBLE_DEVICES'] = '1'\n",
    "import tensorflow as tf\n",
    "tf.compat.v1.enable_eager_execution()\n",
    "import numpy as np\n",
    "import imageio\n",
    "from PIL import Image as im\n",
    "import pprint\n",
    "import matplotlib.pyplot as plt\n",
    "%matplotlib inline\n",
    "import run_nerf\n",
    "import run_nerf_helpers\n",
    "from pyntcloud.io import read_ply\n",
    "import open3d as o3d\n",
    "import open3d as open3d\n",
    "import pandas as pd\n",
    "from typing import Tuple, Optional\n",
    "\n"
   ]
  },
  {
   "cell_type": "markdown",
   "id": "e4e516fa",
   "metadata": {},
   "source": [
    "## Load trained network weights\n",
    "Run bash download_example_weights.sh in the root directory if you need to download the Lego example weights\n",
    "\n"
   ]
  },
  {
   "cell_type": "code",
   "execution_count": 3,
   "id": "3e0a4d14",
   "metadata": {},
   "outputs": [
    {
     "name": "stdout",
     "output_type": "stream",
     "text": [
      "Args:\n",
      "expname = lego_example\n",
      "basedir = ./logs\n",
      "datadir = ./data/nerf_synthetic/lego\n",
      "dataset_type = blender\n",
      "\n",
      "half_res = True\n",
      "no_batching = True\n",
      "\n",
      "N_samples = 64\n",
      "N_importance = 64\n",
      "\n",
      "use_viewdirs = True\n",
      "\n",
      "white_bkgd = True\n",
      "\n",
      "N_rand = 1024\n",
      "\n",
      "MODEL 63 27 <class 'int'> <class 'int'> True\n",
      "(None, 90) (None, 63) (None, 27)\n",
      "MODEL 63 27 <class 'int'> <class 'int'> True\n",
      "(None, 90) (None, 63) (None, 27)\n",
      "Not ndc!\n",
      "Found ckpts ['./logs\\\\lego_example\\\\model_200000.npy']\n",
      "Reloading from ./logs\\lego_example\\model_200000.npy\n",
      "Resetting step to 200001\n",
      "Reloading fine from ./logs\\lego_example\\model_fine_200000.npy\n",
      "Render kwargs:\n",
      "{'N_importance': 64,\n",
      " 'N_samples': 64,\n",
      " 'far': <tf.Tensor: shape=(), dtype=float32, numpy=6.0>,\n",
      " 'lindisp': False,\n",
      " 'ndc': False,\n",
      " 'near': <tf.Tensor: shape=(), dtype=float32, numpy=2.0>,\n",
      " 'network_fine': <keras.engine.functional.Functional object at 0x00000298825A4460>,\n",
      " 'network_fn': <keras.engine.functional.Functional object at 0x0000029881307DC0>,\n",
      " 'network_query_fn': <function create_nerf.<locals>.network_query_fn at 0x0000029881500040>,\n",
      " 'perturb': False,\n",
      " 'raw_noise_std': 0.0,\n",
      " 'use_viewdirs': True,\n",
      " 'white_bkgd': True}\n",
      "<function create_nerf.<locals>.network_query_fn at 0x0000029881500040>\n"
     ]
    }
   ],
   "source": [
    "\n",
    "basedir = './logs'\n",
    "expname = 'lego_example'\n",
    "\n",
    "config = os.path.join(basedir, expname, 'config.txt')\n",
    "print('Args:')\n",
    "print(open(config, 'r').read())\n",
    "\n",
    "parser = run_nerf.config_parser() \n",
    "ft_str = '--ft_path {}'.format(os.path.join(basedir, expname, 'model_200000.npy'))\n",
    "args = parser.parse_args('--config {} '.format(config) + ft_str)\n",
    "\n",
    "# Create nerf model\n",
    "_, render_kwargs_test, start, grad_vars, models = run_nerf.create_nerf(args)\n",
    "\n",
    "bds_dict = {\n",
    "    'near' : tf.cast(2., tf.float32),\n",
    "    'far' : tf.cast(6., tf.float32),\n",
    "}\n",
    "render_kwargs_test.update(bds_dict)\n",
    "\n",
    "print('Render kwargs:')\n",
    "pprint.pprint(render_kwargs_test)\n",
    "\n",
    "net_fn = render_kwargs_test['network_query_fn']\n",
    "print(net_fn)\n"
   ]
  },
  {
   "cell_type": "markdown",
   "id": "90366351",
   "metadata": {},
   "source": [
    "## Query network \n"
   ]
  },
  {
   "cell_type": "code",
   "execution_count": 5,
   "id": "761d24e5",
   "metadata": {},
   "outputs": [
    {
     "name": "stdout",
     "output_type": "stream",
     "text": [
      "Surfel points shape: (200000, 3)\n",
      "Points shape: (200000, 3)\n",
      "View directions shape: (200000, 3)\n",
      "Generating surfel cloud with 200000 surfels\n",
      "Raw shape: (200000, 4)\n",
      "Surfels shape: (200000, 3)\n",
      "Clean surfels shape: (10421, 3)\n",
      "After cleaning, surfel cloud has 10421 surfels\n"
     ]
    }
   ],
   "source": [
    "def generate_surfels(\n",
    "    #num_surfels: int = 256, #for grid\n",
    "    num_surfels: int = 200000, #for others\n",
    "    bounding_box_min: Tuple[float, float, float] = (-1.2, -1.2, -1.2),\n",
    "    bounding_box_max: Tuple[float, float, float] = (1.2, 1.2, 1.2),\n",
    "    estimate_normals: bool = True,\n",
    "    sigma_threshold = 5,\n",
    ") -> o3d.geometry.PointCloud:\n",
    "    \n",
    "    '''Method 1'''\n",
    "    #Generate uniform x, y, z coordinates - uniform distribution\n",
    "    x_points = np.random.uniform(bounding_box_min[0], bounding_box_max[0], num_surfels)\n",
    "    y_points = np.random.uniform(bounding_box_min[1], bounding_box_max[1], num_surfels)\n",
    "    z_points = np.random.uniform(bounding_box_min[2], bounding_box_max[2], num_surfels)\n",
    "    \n",
    "    '''Method 2'''\n",
    "#     #Generate x, y, z coordinates - gaussian distribution \n",
    "#     x_points = np.random.normal(bounding_box_min[0], bounding_box_max[0], num_surfels)\n",
    "#     y_points = np.random.normal(bounding_box_min[1], bounding_box_max[1], num_surfels)\n",
    "#     z_points = np.random.normal(bounding_box_min[2], bounding_box_max[2], num_surfels)\n",
    "    \n",
    "       #Combine the coordinates into surfels\n",
    "    \n",
    "       #for grid\n",
    "#     surfel_pts = np.stack(np.meshgrid(x_points, y_points, z_points), -1).astype(np.float32)\n",
    "\n",
    "      #for others\n",
    "    surfel_pts = np.stack((x_points, y_points, z_points), axis=1).astype(np.float32)\n",
    "    \n",
    "    print(f\"Surfel points shape: {surfel_pts.shape}\")\n",
    "    sh = surfel_pts.shape\n",
    "    points = surfel_pts.reshape([-1,3])\n",
    "    print(f\"Points shape: {points.shape}\")\n",
    "    \n",
    "    '''You can try with different viewing directions to change color '''\n",
    "    \n",
    "    # View directions will change the color of surfels\n",
    "    #viewdirs = np.zeros_like(points) #better\n",
    "    #viewdirs = np.ones_like(points) #worse\n",
    "    viewdirs = np.array([np.array([0.5, 0.5, 0.5])] * points.shape[0]).astype(np.float32) #better\n",
    "    print(f\"View directions shape: {viewdirs.shape}\")\n",
    "\n",
    "    def batchify(fn, chunk):\n",
    "        if chunk is None:\n",
    "            return fn\n",
    "        def ret(inputs):\n",
    "            return tf.concat([fn(inputs[i:i+chunk]) for i in range(0, inputs.shape[0], chunk)], 0)\n",
    "        return ret\n",
    "    \n",
    "    print(f\"Generating surfel cloud with {len(points)} surfels\")\n",
    "    fn = lambda i0, i1 : net_fn(points[i0:i1,None,:], viewdirs=viewdirs[i0:i1,:], network_fn=render_kwargs_test['network_fine'])\n",
    "    chunk = 1024*64\n",
    "    raw = np.concatenate([fn(i, i+chunk).numpy() for i in range(0, points.shape[0], chunk)], 0)\n",
    "    raw = np.reshape(raw, list(sh[:-1]) + [-1])\n",
    "    sigma = np.maximum(raw[...,-1], 0.)\n",
    "    \n",
    "    # Surface colors \n",
    "    rgb = raw[...,:3]\n",
    "    rgbs = np.reshape(rgb, list(points.shape[:-1]) + [-1])\n",
    "    \n",
    "    # Surface normals \n",
    "    normal = raw[...,:3]\n",
    "    normals = np.reshape(normal, list(points.shape[:-1]) + [-1])\n",
    "\n",
    "    # Sigma \n",
    "    sigmas = np.reshape(sigma, list(points.shape[:-1]) + [-1])\n",
    "    print(f\"Raw shape: {raw.shape}\")\n",
    "    print(f\"Surfels shape: {points.shape}\")\n",
    "    \n",
    "    '''Remove noise''' \n",
    "    \n",
    "    # Clean the surfel cloud of surfels with low opacity\n",
    "    opacity_mask = (sigmas[:, 0] > sigma_threshold)\n",
    "    clean_points = points[opacity_mask, :]\n",
    "    clean_rgb = rgbs[opacity_mask, :]\n",
    "    clean_normals = normals[opacity_mask, :]\n",
    "    \n",
    "    print(f\"Clean surfels shape: {clean_points.shape}\")\n",
    "    print(f\"After cleaning, surfel cloud has {len(clean_points)} surfels\")\n",
    "    \n",
    "    '''Normalization layer'''\n",
    "\n",
    "    # Normalize the points to be between 0 and 1\n",
    "    clean_points = 1/(1 + np.exp(-clean_points))\n",
    "    clean_points = clean_points.astype(np.float64)\n",
    "    \n",
    "    # Normalize the RGB values to be between 0 and 1\n",
    "    clean_rgb = 1/(1 + np.exp(-clean_rgb))\n",
    "    clean_rgb = clean_rgb.astype(np.float64)\n",
    "    \n",
    "    # Normalize the normal values to be between 0 and 1\n",
    "    clean_normals = 1/(1 + np.exp(-clean_normals))\n",
    "    clean_normals = clean_normals.astype(np.float64)\n",
    "    \n",
    "    # Generate surfels\n",
    "    surfels = o3d.geometry.PointCloud()\n",
    "    surfels.points = o3d.utility.Vector3dVector(clean_points)\n",
    "    surfels.colors = o3d.utility.Vector3dVector(clean_rgb)\n",
    "    surfels.normals = o3d.utility.Vector3dVector(clean_normals)\n",
    "    return surfels\n",
    "\n",
    "surfels = generate_surfels()\n"
   ]
  },
  {
   "cell_type": "markdown",
   "id": "52733777",
   "metadata": {},
   "source": [
    "## Save surfel cloud as .ply file"
   ]
  },
  {
   "cell_type": "code",
   "execution_count": 6,
   "id": "b44a948f",
   "metadata": {},
   "outputs": [
    {
     "name": "stdout",
     "output_type": "stream",
     "text": [
      "File saved as lego_surfels.ply\n"
     ]
    }
   ],
   "source": [
    "o3d.io.write_point_cloud(\"logs/lego_test/lego_surfels.ply\", surfels)\n",
    "print(f\"File saved as lego_surfels.ply\")"
   ]
  },
  {
   "cell_type": "markdown",
   "id": "ce1d56ca",
   "metadata": {},
   "source": [
    "## Visualize surfel cloud\n",
    "#### press N to visualize surface normals and esc to quit"
   ]
  },
  {
   "cell_type": "code",
   "execution_count": 7,
   "id": "fe137f2b",
   "metadata": {},
   "outputs": [],
   "source": [
    "surfels = o3d.io.read_point_cloud(\"logs/lego_test/lego_surfels.ply\")\n",
    "o3d.visualization.draw_geometries([surfels])"
   ]
  },
  {
   "cell_type": "markdown",
   "id": "6aea3168",
   "metadata": {},
   "source": [
    "## Farthest point sampling"
   ]
  },
  {
   "cell_type": "code",
   "execution_count": 10,
   "id": "d11fbb36",
   "metadata": {},
   "outputs": [
    {
     "data": {
      "text/plain": [
       "True"
      ]
     },
     "execution_count": 10,
     "metadata": {},
     "output_type": "execute_result"
    }
   ],
   "source": [
    "surfels = o3d.io.read_point_cloud(\"logs/lego_test/lego_surfels.ply\")\n",
    "\n",
    "#Select desired number of points\n",
    "surfels_sampled  = surfels.farthest_point_down_sample(1000)\n",
    "o3d.visualization.draw_geometries([surfels_sampled])\n",
    "#print(surfels_sampled)\n",
    "o3d.io.write_point_cloud(\"logs/lego_test/lego_surfels.ply\", surfels_sampled)"
   ]
  },
  {
   "cell_type": "markdown",
   "id": "6cf4dc5b",
   "metadata": {},
   "source": [
    "## Color mesh\n",
    "##### Surface reconstruction - Alpha Shapes"
   ]
  },
  {
   "cell_type": "code",
   "execution_count": 23,
   "id": "cb8bec57",
   "metadata": {},
   "outputs": [
    {
     "name": "stdout",
     "output_type": "stream",
     "text": [
      "Generated TriangleMesh with 2989 points and 6192 triangles.\n",
      "File saved as lego_mesh.ply\n"
     ]
    }
   ],
   "source": [
    "import open3d as o3d\n",
    "\n",
    "# You can try with different alpha values\n",
    "alpha =0.02\n",
    "mesh = o3d.geometry.TriangleMesh.create_from_point_cloud_alpha_shape(surfels, alpha)\n",
    "\n",
    "#uncomment below line to compute vertex normals for mesh\n",
    "#mesh.compute_vertex_normals()\n",
    "\n",
    "o3d.visualization.draw_geometries([mesh], mesh_show_back_face=True)\n",
    "print(f\"Generated {mesh}\")\n",
    "\n",
    "#Save mesh as .ply file\n",
    "o3d.io.write_triangle_mesh(\"logs/lego_test/lego_mesh.ply\", mesh)\n",
    "print(f\"File saved as lego_mesh.ply\")"
   ]
  },
  {
   "cell_type": "markdown",
   "id": "76fad263",
   "metadata": {},
   "source": [
    "##### Poisson surface reconstruction"
   ]
  },
  {
   "cell_type": "code",
   "execution_count": 2,
   "id": "efd675be",
   "metadata": {},
   "outputs": [
    {
     "name": "stdout",
     "output_type": "stream",
     "text": [
      "[Open3D DEBUG] Input Points / Samples: 181856 / 181856\n",
      "[Open3D DEBUG] #   Got kernel density: 4.693 (s), 3711.99 (MB) / 3711.99 (MB) / 3711 (MB)\n",
      "[Open3D DEBUG] #     Got normal field: 1.337 (s), 5081.8 (MB) / 5081.8 (MB) / 5081 (MB)\n",
      "[Open3D DEBUG] Point weight / Estimated Area: 3.242790e-05 / 5.897207e+00\n",
      "[Open3D DEBUG] #       Finalized tree: 5.091 (s), 5069.73 (MB) / 5081.8 (MB) / 6482 (MB)\n",
      "[Open3D DEBUG] #  Set FEM constraints: 0.914 (s), 3703.27 (MB) / 5081.8 (MB) / 6482 (MB)\n",
      "[Open3D DEBUG] #Set point constraints: 0.788 (s), 3686.48 (MB) / 5081.8 (MB) / 6482 (MB)\n",
      "[Open3D DEBUG] Leaf Nodes / Active Nodes / Ghost Nodes: 47808265 / 1306888 / 53331129\n",
      "[Open3D DEBUG] Memory Usage: 3686.480 MB\n",
      "[Open3D DEBUG] # Linear system solved: 6.99 (s), 3752.73 (MB) / 5081.8 (MB) / 6482 (MB)\n",
      "[Open3D DEBUG] Got average: 0.0680001 (s), 3705.0 (MB) / 5081.8 (MB) / 6482 (MB)\n",
      "[Open3D DEBUG] Iso-Value: 5.002125e-01 = 9.096664e+04 / 1.818560e+05\n",
      "[Open3D DEBUG] #          Total Solve:      31.1 (s),    5081.8 (MB)\n",
      "TriangleMesh with 487503 points and 989610 triangles.\n",
      "[Open3D WARNING] Write Ply clamped color value to valid range\n"
     ]
    },
    {
     "data": {
      "text/plain": [
       "True"
      ]
     },
     "execution_count": 2,
     "metadata": {},
     "output_type": "execute_result"
    }
   ],
   "source": [
    "#Poisson surface mesh\n",
    "\n",
    "pcd = o3d.io.read_point_cloud(\"C:/Users/vipasyan/Thesis/Task1/OLD-Nerf/logs/chair_test/chair_surfels_cn.ply\")\n",
    "with o3d.utility.VerbosityContextManager(\n",
    "        o3d.utility.VerbosityLevel.Debug) as cm:\n",
    "    mesh, densities = o3d.geometry.TriangleMesh.create_from_point_cloud_poisson(\n",
    "        pcd, depth=15)\n",
    "print(mesh)\n",
    "o3d.visualization.draw_geometries([mesh],\n",
    "                                  zoom=1,\n",
    "                                  front=[-0.1, -0.1, -0.3],\n",
    "                                  lookat=[-0.15, -0.1, -0.1],\n",
    "                                  up=[-0.1, -0.2, -0.1])\n",
    "o3d.io.write_triangle_mesh(\"C:/Users/vipasyan/Thesis/Task1/OLD-Nerf/logs/chair_test/chair_surfmesh_poismesh1.ply\", mesh)"
   ]
  },
  {
   "cell_type": "markdown",
   "id": "0f624fb6",
   "metadata": {},
   "source": [
    "## Poisson disk sampling for blue noise distribution"
   ]
  },
  {
   "cell_type": "code",
   "execution_count": 11,
   "id": "7162c43e",
   "metadata": {},
   "outputs": [
    {
     "name": "stdout",
     "output_type": "stream",
     "text": [
      "[Open3D WARNING] Write Ply clamped color value to valid range\n",
      "File saved as lego_bluenoise.ply\n"
     ]
    }
   ],
   "source": [
    "#Load mesh\n",
    "mesh = o3d.io.read_triangle_mesh(\"C:/Users/vipasyan/Task1/OLD-Nerf/logs/lego_test/lego_mesh.ply\")\n",
    "\n",
    "#Compute vertex normals\n",
    "mesh.compute_vertex_normals()\n",
    "\n",
    "# Poisson disk sampling for mesh\n",
    "mesh_sampled = mesh.sample_points_poisson_disk(1000)\n",
    "#print(mesh_sampled)\n",
    "o3d.visualization.draw_geometries([mesh_sampled])\n",
    "\n",
    "#Save surfels as .ply file\n",
    "o3d.io.write_point_cloud(\"C:/Users/vipasyan/Task1/OLD-Nerf/logs/lego_test/lego_bluenoise.ply\", mesh_sampled)\n",
    "print(f\"File saved as lego_bluenoise.ply\")"
   ]
  }
 ],
 "metadata": {
  "kernelspec": {
   "display_name": "Python 3 (ipykernel)",
   "language": "python",
   "name": "python3"
  },
  "language_info": {
   "codemirror_mode": {
    "name": "ipython",
    "version": 3
   },
   "file_extension": ".py",
   "mimetype": "text/x-python",
   "name": "python",
   "nbconvert_exporter": "python",
   "pygments_lexer": "ipython3",
   "version": "3.10.0"
  }
 },
 "nbformat": 4,
 "nbformat_minor": 5
}
