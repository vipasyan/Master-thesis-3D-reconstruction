{
 "cells": [
  {
   "cell_type": "markdown",
   "id": "514e4a2b",
   "metadata": {},
   "source": [
    "## Import libraries"
   ]
  },
  {
   "cell_type": "code",
   "execution_count": null,
   "id": "0035c94d",
   "metadata": {},
   "outputs": [],
   "source": [
    "import os, sys\n",
    "#os.environ['TF_FORCE_GPU_ALLOW_GROWTH'] = 'true'\n",
    "#os.environ['CUDA_VISIBLE_DEVICES'] = '0'\n",
    "os.environ['CUDA_VISIBLE_DEVICES'] = '1'\n",
    "import tensorflow as tf\n",
    "tf.compat.v1.enable_eager_execution()\n",
    "import numpy as np\n",
    "import imageio\n",
    "from PIL import Image as im\n",
    "import pprint\n",
    "import matplotlib.pyplot as plt\n",
    "%matplotlib inline\n",
    "import run_nerf\n",
    "import run_nerf_helpers\n",
    "from pyntcloud.io import read_ply\n",
    "import open3d as o3d\n",
    "import open3d as open3d\n",
    "import pandas as pd\n",
    "from typing import Tuple, Optional\n",
    "\n"
   ]
  },
  {
   "cell_type": "markdown",
   "id": "e4e516fa",
   "metadata": {},
   "source": [
    "## Load trained network weights\n",
    "Run bash download_example_weights.sh in the root directory if you need to download the Lego example weights\n",
    "\n"
   ]
  },
  {
   "cell_type": "code",
   "execution_count": 67,
   "id": "3e0a4d14",
   "metadata": {},
   "outputs": [
    {
     "name": "stdout",
     "output_type": "stream",
     "text": [
      "Args:\n",
      "expname = lego_example\n",
      "basedir = ./logs\n",
      "datadir = ./data/nerf_synthetic/lego\n",
      "dataset_type = blender\n",
      "\n",
      "half_res = True\n",
      "no_batching = True\n",
      "\n",
      "N_samples = 64\n",
      "N_importance = 64\n",
      "\n",
      "use_viewdirs = True\n",
      "\n",
      "white_bkgd = True\n",
      "\n",
      "N_rand = 1024\n",
      "\n",
      "MODEL 63 27 <class 'int'> <class 'int'> True\n",
      "(None, 90) (None, 63) (None, 27)\n",
      "MODEL 63 27 <class 'int'> <class 'int'> True\n",
      "(None, 90) (None, 63) (None, 27)\n",
      "Not ndc!\n",
      "Found ckpts ['./logs\\\\lego_example\\\\model_200000.npy']\n",
      "Reloading from ./logs\\lego_example\\model_200000.npy\n",
      "Resetting step to 200001\n",
      "Reloading fine from ./logs\\lego_example\\model_fine_200000.npy\n",
      "Render kwargs:\n",
      "{'N_importance': 64,\n",
      " 'N_samples': 64,\n",
      " 'far': <tf.Tensor: shape=(), dtype=float32, numpy=6.0>,\n",
      " 'lindisp': False,\n",
      " 'ndc': False,\n",
      " 'near': <tf.Tensor: shape=(), dtype=float32, numpy=2.0>,\n",
      " 'network_fine': <keras.engine.functional.Functional object at 0x00000151042727D0>,\n",
      " 'network_fn': <keras.engine.functional.Functional object at 0x0000015106434790>,\n",
      " 'network_query_fn': <function create_nerf.<locals>.network_query_fn at 0x00000151208EB130>,\n",
      " 'perturb': False,\n",
      " 'raw_noise_std': 0.0,\n",
      " 'use_viewdirs': True,\n",
      " 'white_bkgd': True}\n",
      "<function create_nerf.<locals>.network_query_fn at 0x00000151208EB130>\n"
     ]
    }
   ],
   "source": [
    "\n",
    "basedir = './logs'\n",
    "expname = 'lego_example'\n",
    "\n",
    "config = os.path.join(basedir, expname, 'config.txt')\n",
    "print('Args:')\n",
    "print(open(config, 'r').read())\n",
    "\n",
    "parser = run_nerf.config_parser() \n",
    "ft_str = '--ft_path {}'.format(os.path.join(basedir, expname, 'model_200000.npy'))\n",
    "args = parser.parse_args('--config {} '.format(config) + ft_str)\n",
    "\n",
    "# Create nerf model\n",
    "_, render_kwargs_test, start, grad_vars, models = run_nerf.create_nerf(args)\n",
    "\n",
    "bds_dict = {\n",
    "    'near' : tf.cast(2., tf.float32),\n",
    "    'far' : tf.cast(6., tf.float32),\n",
    "}\n",
    "render_kwargs_test.update(bds_dict)\n",
    "\n",
    "print('Render kwargs:')\n",
    "pprint.pprint(render_kwargs_test)\n",
    "\n",
    "net_fn = render_kwargs_test['network_query_fn']\n",
    "print(net_fn)\n"
   ]
  },
  {
   "cell_type": "markdown",
   "id": "90366351",
   "metadata": {},
   "source": [
    "## Query network \n"
   ]
  },
  {
   "cell_type": "code",
   "execution_count": 8,
   "id": "761d24e5",
   "metadata": {},
   "outputs": [
    {
     "name": "stdout",
     "output_type": "stream",
     "text": [
      "Surfel points shape: (100000, 3)\n",
      "Points shape: (100000, 3)\n",
      "View directions shape: (100000, 3)\n",
      "Generating surfel cloud with 100000 surfels\n",
      "Raw shape: (100000, 4)\n",
      "Surfels shape: (100000, 3)\n",
      "Clean surfels shape: (5322, 3)\n",
      "After cleaning, surfel cloud has 5322 surfels\n"
     ]
    },
    {
     "data": {
      "image/png": "[encoded data removed]",
      "text/plain": [
       "<Figure size 640x480 with 1 Axes>"
      ]
     },
     "metadata": {},
     "output_type": "display_data"
    }
   ],
   "source": [
    "def generate_surfels(\n",
    "    #num_surfels: int = 256, #for grid\n",
    "    num_surfels: int = 100000, #for others\n",
    "    bounding_box_min: Tuple[float, float, float] = (-1.2, -1.2, -1.2),\n",
    "    bounding_box_max: Tuple[float, float, float] = (1.2, 1.2, 1.2),\n",
    "    estimate_normals: bool = True,\n",
    "    sigma_threshold = 50,\n",
    ") -> o3d.geometry.PointCloud:\n",
    "    \n",
    "    '''Method 1'''\n",
    "    #Generate uniform x, y, z coordinates - uniform distribution\n",
    "    x_points = np.random.uniform(bounding_box_min[0], bounding_box_max[0], num_surfels)\n",
    "    y_points = np.random.uniform(bounding_box_min[1], bounding_box_max[1], num_surfels)\n",
    "    z_points = np.random.uniform(bounding_box_min[2], bounding_box_max[2], num_surfels)\n",
    "    \n",
    "    '''Method 2'''\n",
    "#     #Generate x, y, z coordinates - gaussian distribution \n",
    "#     x_points = np.random.normal(bounding_box_min[0], bounding_box_max[0], num_surfels)\n",
    "#     y_points = np.random.normal(bounding_box_min[1], bounding_box_max[1], num_surfels)\n",
    "#     z_points = np.random.normal(bounding_box_min[2], bounding_box_max[2], num_surfels)\n",
    "    \n",
    "    # Combine the coordinates into surfels\n",
    "    \n",
    "       #for grid\n",
    "#     surfel_pts = np.stack(np.meshgrid(x_points, y_points, z_points), -1).astype(np.float32)\n",
    "\n",
    "      #for others\n",
    "    surfel_pts = np.stack((x_points, y_points, z_points), axis=1).astype(np.float32)\n",
    "    \n",
    "    print(f\"Surfel points shape: {surfel_pts.shape}\")\n",
    "    sh = surfel_pts.shape\n",
    "    points = surfel_pts.reshape([-1,3])\n",
    "    print(f\"Points shape: {points.shape}\")\n",
    "    \n",
    "    '''You can try with different viewing directions to change color '''\n",
    "    \n",
    "    # View directions will change the color of surfels\n",
    "    #viewdirs = np.zeros_like(points) #better\n",
    "    #viewdirs = np.ones_like(points) #worse\n",
    "    viewdirs = np.array([np.array([0.5, 0.5, 0.5])] * points.shape[0]).astype(np.float32) #better\n",
    "    #viewdirs = np.array([np.array([-0.5, -0.5, -0.5])] * points.shape[0]).astype(np.float32) #normal\n",
    "    print(f\"View directions shape: {viewdirs.shape}\")\n",
    "\n",
    "    def batchify(fn, chunk):\n",
    "        if chunk is None:\n",
    "            return fn\n",
    "        def ret(inputs):\n",
    "            return tf.concat([fn(inputs[i:i+chunk]) for i in range(0, inputs.shape[0], chunk)], 0)\n",
    "        return ret\n",
    "    \n",
    "    print(f\"Generating surfel cloud with {len(points)} surfels\")\n",
    "    fn = lambda i0, i1 : net_fn(points[i0:i1,None,:], viewdirs=viewdirs[i0:i1,:], network_fn=render_kwargs_test['network_fine'])\n",
    "    chunk = 1024*64\n",
    "    raw = np.concatenate([fn(i, i+chunk).numpy() for i in range(0, points.shape[0], chunk)], 0)\n",
    "    raw = np.reshape(raw, list(sh[:-1]) + [-1])\n",
    "    sigma = np.maximum(raw[...,-1], 0.)\n",
    "    \n",
    "    # Surface colors \n",
    "    rgb = raw[...,:3]\n",
    "    rgbs = np.reshape(rgb, list(points.shape[:-1]) + [-1])\n",
    "    \n",
    "    # Surface normals \n",
    "    normal = raw[...,:3]\n",
    "    normals = np.reshape(normal, list(points.shape[:-1]) + [-1])\n",
    "\n",
    "    # Sigma \n",
    "    sigmas = np.reshape(sigma, list(points.shape[:-1]) + [-1])\n",
    "    print(f\"Raw shape: {raw.shape}\")\n",
    "    print(f\"Surfels shape: {points.shape}\")\n",
    "    \n",
    "    '''Remove noise''' \n",
    "    \n",
    "    # Clean the surfel cloud of surfels with low opacity\n",
    "    opacity_mask = (sigmas[:, 0] > sigma_threshold)\n",
    "    clean_points = points[opacity_mask, :]\n",
    "    clean_rgb = rgbs[opacity_mask, :]\n",
    "    clean_normals = normals[opacity_mask, :]\n",
    "    \n",
    "    print(f\"Clean surfels shape: {clean_points.shape}\")\n",
    "    print(f\"After cleaning, surfel cloud has {len(clean_points)} surfels\")\n",
    "    \n",
    "    '''Normalization layer'''\n",
    "\n",
    "    # Normalize the points to be between 0 and 1\n",
    "    clean_points = 1/(1 + np.exp(-clean_points))\n",
    "    clean_points = clean_points.astype(np.float64)\n",
    "    \n",
    "    # Normalize the RGB values to be between 0 and 1\n",
    "    clean_rgb = 1/(1 + np.exp(-clean_rgb))\n",
    "    clean_rgb = clean_rgb.astype(np.float64)\n",
    "    \n",
    "    # Normalize the normal values to be between 0 and 1\n",
    "    clean_normals = 1/(1 + np.exp(-clean_normals))\n",
    "    clean_normals = clean_normals.astype(np.float64)\n",
    "\n",
    "\n",
    "    # histogram\n",
    "    _ = plt.hist(clean_rgb, bins='auto')  \n",
    "    plt.title(\"Histogram of RGB values\")\n",
    "    plt.show()\n",
    "\n",
    "    surfels = o3d.geometry.PointCloud()\n",
    "    surfels.points = o3d.utility.Vector3dVector(clean_points)\n",
    "    surfels.colors = o3d.utility.Vector3dVector(clean_rgb)\n",
    "    surfels.normals = o3d.utility.Vector3dVector(clean_normals)\n",
    "    return surfels\n",
    "\n",
    "surfels = generate_surfels()\n"
   ]
  },
  {
   "cell_type": "markdown",
   "id": "52733777",
   "metadata": {},
   "source": [
    "## Save surfel cloud as .ply file"
   ]
  },
  {
   "cell_type": "code",
   "execution_count": 10,
   "id": "b44a948f",
   "metadata": {},
   "outputs": [
    {
     "name": "stdout",
     "output_type": "stream",
     "text": [
      "File saved as lego_surfels.ply\n"
     ]
    }
   ],
   "source": [
    "o3d.io.write_point_cloud(\"logs/lego_test/lego_surfels.ply\", surfels)\n",
    "print(f\"File saved as lego_surfels.ply\")"
   ]
  },
  {
   "cell_type": "markdown",
   "id": "ce1d56ca",
   "metadata": {},
   "source": [
    "## Visualize surfel cloud\n",
    "#### press N to visualize surface normals and esc to quit"
   ]
  },
  {
   "cell_type": "code",
   "execution_count": 11,
   "id": "fe137f2b",
   "metadata": {},
   "outputs": [],
   "source": [
    "surfel = o3d.io.read_point_cloud(\"logs/lego_test/lego_surfels.ply\")\n",
    "o3d.visualization.draw_geometries([surfel])"
   ]
  }
 ],
 "metadata": {
  "kernelspec": {
   "display_name": "Python 3 (ipykernel)",
   "language": "python",
   "name": "python3"
  },
  "language_info": {
   "codemirror_mode": {
    "name": "ipython",
    "version": 3
   },
   "file_extension": ".py",
   "mimetype": "text/x-python",
   "name": "python",
   "nbconvert_exporter": "python",
   "pygments_lexer": "ipython3",
   "version": "3.10.0"
  }
 },
 "nbformat": 4,
 "nbformat_minor": 5
}
